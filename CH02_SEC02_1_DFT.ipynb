{
  "nbformat": 4,
  "nbformat_minor": 0,
  "metadata": {
    "colab": {
      "provenance": [],
      "authorship_tag": "ABX9TyN3Io6dwUs5dyWpALW6VrcR",
      "include_colab_link": true
    },
    "kernelspec": {
      "name": "python3",
      "display_name": "Python 3"
    },
    "language_info": {
      "name": "python"
    }
  },
  "cells": [
    {
      "cell_type": "markdown",
      "metadata": {
        "id": "view-in-github",
        "colab_type": "text"
      },
      "source": [
        "<a href=\"https://colab.research.google.com/github/mozartMiBciBA/-Data-Driven_-ScienceandEngineering_Ch2-/blob/main/CH02_SEC02_1_DFT.ipynb\" target=\"_parent\"><img src=\"https://colab.research.google.com/assets/colab-badge.svg\" alt=\"Open In Colab\"/></a>"
      ]
    },
    {
      "cell_type": "markdown",
      "source": [
        "Computing the DFT Matrix\n",
        "\n",
        "\n",
        "This code script show how to compute the Discrete Fourier Transform (DFT) matrix in Python.  In practice, the DFT should usually be computed using the fast Fourier transform (FFT), which will be described in the next script.\n",
        "\n",
        "Book Website: http://databookuw.com\n",
        "\n",
        "Book PDF: http://databookuw.com/databook.pdf\n",
        "\n",
        "Video link:https://www.youtube.com/watch?v=Xw4voABxU5c&list=PLMrJAkhIeNNT_Xh3Oy0Y4LTj0Oxo8GqsC&index=16\n",
        "\n"
      ],
      "metadata": {
        "id": "uAjfBC3M1Nd6"
      }
    },
    {
      "cell_type": "code",
      "execution_count": 1,
      "metadata": {
        "id": "P2x87oFQ00BA"
      },
      "outputs": [],
      "source": [
        "import numpy as np\n",
        "import matplotlib.pyplot as plt\n",
        "plt.rcParams['figure.figsize'] = [8, 8]\n",
        "plt.rcParams.update({'font.size': 18})\n",
        "\n",
        "n = 256\n",
        "w = np.exp(-1j * 2 * np.pi / n)"
      ]
    },
    {
      "cell_type": "code",
      "source": [
        "DFT = np.zeros((n,n))\n",
        "\n",
        "# Slow\n",
        "for i in range(n):\n",
        "    for k in range(n):\n",
        "        DFT[i,k] = w**(i*k)\n",
        "        \n",
        "DFT = np.real(DFT)\n",
        "#print(\"DFT\")\n",
        "#print(DFT)\n",
        "\n",
        "plt.imshow(DFT)\n",
        "plt.show()"
      ],
      "metadata": {
        "id": "ZYPcHY3I26VI"
      },
      "execution_count": null,
      "outputs": []
    }
  ]
}