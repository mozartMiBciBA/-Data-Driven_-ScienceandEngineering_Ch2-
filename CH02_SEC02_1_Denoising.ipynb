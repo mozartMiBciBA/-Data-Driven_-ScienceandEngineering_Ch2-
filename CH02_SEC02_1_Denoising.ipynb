{
  "nbformat": 4,
  "nbformat_minor": 0,
  "metadata": {
    "colab": {
      "provenance": [],
      "authorship_tag": "ABX9TyM7r2uo8q5QSEBdygQKoWyY",
      "include_colab_link": true
    },
    "kernelspec": {
      "name": "python3",
      "display_name": "Python 3"
    },
    "language_info": {
      "name": "python"
    }
  },
  "cells": [
    {
      "cell_type": "markdown",
      "metadata": {
        "id": "view-in-github",
        "colab_type": "text"
      },
      "source": [
        "<a href=\"https://colab.research.google.com/github/mozartMiBciBA/-Data-Driven_-ScienceandEngineering_Ch2-/blob/main/CH02_SEC02_1_Denoising.ipynb\" target=\"_parent\"><img src=\"https://colab.research.google.com/assets/colab-badge.svg\" alt=\"Open In Colab\"/></a>"
      ]
    },
    {
      "cell_type": "markdown",
      "source": [
        "Denoising Data with FFT [Python]\n",
        "\n",
        "This video describes how to clean data with the Fast Fourier Transform (FFT) in Python. \n",
        "\n",
        "Book Website: http://databookuw.com\n",
        "\n",
        "Book PDF: http://databookuw.com/databook.pdf\n",
        "\n",
        "Video link"
      ],
      "metadata": {
        "id": "SmH2xyypQRjb"
      }
    },
    {
      "cell_type": "code",
      "source": [
        "import numpy as np\n",
        "import matplotlib.pyplot as plt\n",
        "plt.rcParams['figure.figsize'] = [12, 6]\n",
        "plt.rcParams.update({'font.size': 18})\n",
        "\n",
        "x1 = np.arange(5)\n",
        "\n",
        "print(\"x1\")\n",
        "print(x1)"
      ],
      "metadata": {
        "colab": {
          "base_uri": "https://localhost:8080/"
        },
        "id": "-sLdqmAoEgK7",
        "outputId": "6985d6c9-8978-480e-af2e-aaff93d39f9b"
      },
      "execution_count": 32,
      "outputs": [
        {
          "output_type": "stream",
          "name": "stdout",
          "text": [
            "x1\n",
            "[0 1 2 3 4]\n"
          ]
        }
      ]
    },
    {
      "cell_type": "code",
      "execution_count": null,
      "metadata": {
        "id": "WLTkmKPPOEWW"
      },
      "outputs": [],
      "source": [
        "\n",
        "#Create a simple signal with two frecuencies\n",
        "\n",
        "import numpy as np\n",
        "import matplotlib.pyplot as plt\n",
        "plt.rcParams['figure.figsize'] = [12, 6]\n",
        "plt.rcParams.update({'font.size': 18})\n",
        "\n",
        "# Create a simple signal with two frequencies\n",
        "dt = 0.001\n",
        "t = np.arange(0,1,dt)\n",
        "f_1 = np.sin(2*np.pi*50*t)\n",
        "f_2 = np.sin(2*np.pi*120*t)\n",
        "#f = np.sin(2*np.pi*50*t) + np.sin(2*np.pi*120*t) # Sum of 2 frequencies y(t)= sen (2*pi*f*t)\n",
        "f = f_1 + f_2\n",
        "f_clean = f\n",
        "f = f + 2.5*np.random.randn(len(t))              # Add some noise\n",
        "\n",
        "\n",
        "\n",
        "plt.plot(t,f,color = 'c', linewidth = 1.5, label = 'Noisy')\n",
        "#plt.plot(t,f_1, color = 'r', linewidth = 1.8, label = 'f_1' )\n",
        "#plt.plot(t,f_2, color = 'b', linewidth = 1.5, label = 'f_2')\n",
        "plt.plot(t,f_clean,color = 'k', linewidth = 2.5, label = 'Clean')\n",
        "#plt.xlim(t[0], t[-1])\n",
        "plt.legend()\n",
        "\n",
        "\n",
        "\n",
        "\n"
      ]
    },
    {
      "cell_type": "markdown",
      "source": [
        "Compute Fast Fourier transform"
      ],
      "metadata": {
        "id": "SV5RPcFCjRHo"
      }
    },
    {
      "cell_type": "code",
      "source": [
        "## Compute the Fast Fourier Transform (FFT)\n",
        "\n",
        "n = len(t)\n",
        "print(\"n\")\n",
        "print(n)\n",
        "fhat = np.fft.fft(f,n)                     # Compute the FFT\n",
        "PSD = fhat * np.conj(fhat) / n             # Power spectrum (power per freq)\n",
        "freq = (1/(dt*n)) * np.arange(n)           # Create x-axis of frequencies in Hz\n",
        "L = np.arange(1,np.floor(n/2),dtype='int') # Only plot the first half of freqs\n",
        "\n",
        "print(\"L\")\n",
        "#print(L)"
      ],
      "metadata": {
        "id": "V0BbsCuxjXfz",
        "colab": {
          "base_uri": "https://localhost:8080/"
        },
        "outputId": "f729d07c-b09d-4745-d717-30ad5cd4b14e"
      },
      "execution_count": 35,
      "outputs": [
        {
          "output_type": "stream",
          "name": "stdout",
          "text": [
            "n\n",
            "1000\n",
            "L\n"
          ]
        }
      ]
    },
    {
      "cell_type": "code",
      "source": [
        "#plt.plot(t,f,color = 'c', linewidth = 1.5, label = 'Noisy')\n",
        "#plt.plot(t,f_clean,color = 'k', linewidth = 2.5, label = 'Clean')\n",
        "plt.plot(freq[L],PSD[L],color='r',linewidth=2,label='Noisy')\n",
        "#plt.plot(freq,PSD,color='b',linewidth=3,label='Noisyb')\n",
        "#plt.xlim(t[0], t[-1])\n",
        "plt.legend()"
      ],
      "metadata": {
        "id": "naXjvVO8HV_v"
      },
      "execution_count": null,
      "outputs": []
    },
    {
      "cell_type": "code",
      "source": [
        "## Use the PSD to filter out noise\n",
        "indices = PSD > 100       # Find all freqs with large power\n",
        "PSDclean = PSD * indices  # Zero out all others\n",
        "print(\"PSDclean\")\n",
        "print(len(PSDclean))\n",
        "fhat =  fhat * indices    # Zero out small Fourier coeffs. in Y\n",
        "ffilt = np.fft.ifft(fhat) # Inverse FFT for filtered time signal\n"
      ],
      "metadata": {
        "id": "VZJzUnxyTu13",
        "colab": {
          "base_uri": "https://localhost:8080/"
        },
        "outputId": "d04b43be-4632-40c7-f40c-f47125ad66f9"
      },
      "execution_count": 30,
      "outputs": [
        {
          "output_type": "stream",
          "name": "stdout",
          "text": [
            "PSDclean\n",
            "1000\n"
          ]
        }
      ]
    },
    {
      "cell_type": "code",
      "source": [
        "## Plots\n",
        "fig,axs = plt.subplots(3,1)\n",
        "\n",
        "plt.sca(axs[0])\n",
        "plt.plot(t,f,color='r',linewidth=1.5,label='Noisy')\n",
        "plt.plot(t,f_clean,color='k',linewidth=2,label='Clean')\n",
        "plt.xlim(t[0],t[-1])\n",
        "plt.legend()\n",
        "\n",
        "plt.sca(axs[1])\n",
        "plt.plot(t,f_clean,color='k',linewidth=1.5,label='Clean')\n",
        "plt.plot(t,ffilt,color='b',linewidth=2,label='Filtered')\n",
        "plt.xlim(t[0],t[-1])\n",
        "plt.legend()\n",
        "\n",
        "plt.sca(axs[2])\n",
        "plt.plot(freq[L],PSD[L],color='r',linewidth=2,label='Noisy')\n",
        "plt.plot(freq[L],PSDclean[L],color='b',linewidth=1.5,label='Filtered')\n",
        "plt.xlim(freq[L[0]],freq[L[-1]])\n",
        "plt.legend()\n",
        "\n",
        "plt.show()\n"
      ],
      "metadata": {
        "id": "-SKsbVawmR2F"
      },
      "execution_count": null,
      "outputs": []
    }
  ]
}