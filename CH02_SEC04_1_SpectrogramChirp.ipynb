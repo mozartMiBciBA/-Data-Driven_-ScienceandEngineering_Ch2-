{
  "nbformat": 4,
  "nbformat_minor": 0,
  "metadata": {
    "colab": {
      "provenance": [],
      "authorship_tag": "ABX9TyOedPZWUMauBgv18gpJLolB",
      "include_colab_link": true
    },
    "kernelspec": {
      "name": "python3",
      "display_name": "Python 3"
    },
    "language_info": {
      "name": "python"
    }
  },
  "cells": [
    {
      "cell_type": "markdown",
      "metadata": {
        "id": "view-in-github",
        "colab_type": "text"
      },
      "source": [
        "<a href=\"https://colab.research.google.com/github/mozartMiBciBA/-Data-Driven_-ScienceandEngineering_Ch2-/blob/main/CH02_SEC04_1_SpectrogramChirp.ipynb\" target=\"_parent\"><img src=\"https://colab.research.google.com/assets/colab-badge.svg\" alt=\"Open In Colab\"/></a>"
      ]
    },
    {
      "cell_type": "markdown",
      "source": [
        "Spectrogram Examples [Python]\n",
        "\n",
        "Fuente: https://www.youtube.com/watch?v=TJGlxdW7Fb4&list=PLMrJAkhIeNNT_Xh3Oy0Y4LTj0Oxo8GqsC&index=29\n",
        "\n",
        "\n",
        "[Data-Driven Science and Engineering]\n",
        "This video describes how to compute the Spectrogram in Python.  \n",
        "\n",
        "Book Website: http://databookuw.com\n",
        "Book PDF: http://databookuw.com/databook.pdf\n",
        "\n",
        "These lectures follow Chapter 2 from:\n",
        "\"Data-Driven Science and Engineering: Machine Learning, Dynamical Systems, and Control\"  by Brunton and Kutz\n",
        "\n",
        "\n",
        "Brunton Website: eigensteve.com\n",
        "\n"
      ],
      "metadata": {
        "id": "i2TjQZyULTiL"
      }
    },
    {
      "cell_type": "code",
      "execution_count": 1,
      "metadata": {
        "id": "vhU3Ut5VLEK6"
      },
      "outputs": [],
      "source": [
        "import numpy as np\n",
        "import matplotlib.pyplot as plt\n",
        "plt.rcParams['figure.figsize'] = [12, 8]\n",
        "plt.rcParams.update({'font.size': 18})\n",
        "\n",
        "dt = 0.001\n",
        "t = np.arange(0,2,dt)\n",
        "f0 = 50\n",
        "f1 = 250\n",
        "t1 = 2\n",
        "x = np.cos(2*np.pi*t*(f0 + (f1-f0)*np.power(t,2)/(3*t1**2)))\n"
      ]
    },
    {
      "cell_type": "code",
      "source": [
        "plt.plot(t,x,color = 'c', linewidth = 1.5, label = 'signal')\n",
        "#plt.plot(t,f_1, color = 'r', linewidth = 1.8, label = 'f_1' )\n",
        "#plt.plot(t,f_2, color = 'b', linewidth = 1.5, label = 'f_2')\n",
        "\n",
        "#plt.plot(t,f_clean,color = 'k', linewidth = 2.5, label = 'Clean')\n",
        "\n",
        "#plt.xlim(t[0], t[-1])\n",
        "plt.legend()\n"
      ],
      "metadata": {
        "id": "Ui_FAHzQNIgg"
      },
      "execution_count": null,
      "outputs": []
    },
    {
      "cell_type": "code",
      "source": [
        "plt.specgram(x, NFFT=128, Fs=1/dt, noverlap=120,cmap='jet')\n",
        "plt.colorbar()\n",
        "plt.show()"
      ],
      "metadata": {
        "id": "0IT9anpbNMC5"
      },
      "execution_count": null,
      "outputs": []
    },
    {
      "cell_type": "code",
      "source": [
        "import librosa\n",
        "\n",
        "#Load the example clip\n",
        "#y, sr = librosa.load(librosa.ex('nutcracker'))\n",
        "\n",
        "#y, sr = librosa.load(librosa.ex('beethoven.mp3'))\n",
        "\n",
        "# , sr = librosa.load()"
      ],
      "metadata": {
        "id": "BLMMAYjQSDOa"
      },
      "execution_count": 4,
      "outputs": []
    }
  ]
}